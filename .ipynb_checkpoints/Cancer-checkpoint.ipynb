{
 "cells": [
  {
   "cell_type": "code",
   "execution_count": 1,
   "metadata": {},
   "outputs": [],
   "source": [
    "import numpy as np\n",
    "import pandas as pd"
   ]
  },
  {
   "cell_type": "code",
   "execution_count": 2,
   "metadata": {},
   "outputs": [],
   "source": [
    "import matplotlib.pyplot as plt\n",
    "import seaborn as sns"
   ]
  },
  {
   "cell_type": "code",
   "execution_count": 3,
   "metadata": {},
   "outputs": [],
   "source": [
    "%matplotlib inline"
   ]
  },
  {
   "cell_type": "code",
   "execution_count": 4,
   "metadata": {},
   "outputs": [],
   "source": [
    "from sklearn.datasets import load_breast_cancer"
   ]
  },
  {
   "cell_type": "code",
   "execution_count": 5,
   "metadata": {},
   "outputs": [],
   "source": [
    "cancer=load_breast_cancer()"
   ]
  },
  {
   "cell_type": "code",
   "execution_count": 6,
   "metadata": {},
   "outputs": [
    {
     "data": {
      "text/plain": [
       "dict_keys(['data', 'target', 'target_names', 'DESCR', 'feature_names'])"
      ]
     },
     "execution_count": 6,
     "metadata": {},
     "output_type": "execute_result"
    }
   ],
   "source": [
    "#printing the list \n",
    "cancer.keys()"
   ]
  },
  {
   "cell_type": "code",
   "execution_count": 7,
   "metadata": {},
   "outputs": [],
   "source": [
    "df_features=pd.DataFrame(cancer['data'],columns=cancer['feature_names'])"
   ]
  },
  {
   "cell_type": "code",
   "execution_count": 8,
   "metadata": {},
   "outputs": [
    {
     "data": {
      "text/html": [
       "<div>\n",
       "<style scoped>\n",
       "    .dataframe tbody tr th:only-of-type {\n",
       "        vertical-align: middle;\n",
       "    }\n",
       "\n",
       "    .dataframe tbody tr th {\n",
       "        vertical-align: top;\n",
       "    }\n",
       "\n",
       "    .dataframe thead th {\n",
       "        text-align: right;\n",
       "    }\n",
       "</style>\n",
       "<table border=\"1\" class=\"dataframe\">\n",
       "  <thead>\n",
       "    <tr style=\"text-align: right;\">\n",
       "      <th></th>\n",
       "      <th>mean radius</th>\n",
       "      <th>mean texture</th>\n",
       "      <th>mean perimeter</th>\n",
       "      <th>mean area</th>\n",
       "      <th>mean smoothness</th>\n",
       "      <th>mean compactness</th>\n",
       "      <th>mean concavity</th>\n",
       "      <th>mean concave points</th>\n",
       "      <th>mean symmetry</th>\n",
       "      <th>mean fractal dimension</th>\n",
       "      <th>...</th>\n",
       "      <th>worst radius</th>\n",
       "      <th>worst texture</th>\n",
       "      <th>worst perimeter</th>\n",
       "      <th>worst area</th>\n",
       "      <th>worst smoothness</th>\n",
       "      <th>worst compactness</th>\n",
       "      <th>worst concavity</th>\n",
       "      <th>worst concave points</th>\n",
       "      <th>worst symmetry</th>\n",
       "      <th>worst fractal dimension</th>\n",
       "    </tr>\n",
       "  </thead>\n",
       "  <tbody>\n",
       "    <tr>\n",
       "      <th>0</th>\n",
       "      <td>17.99</td>\n",
       "      <td>10.38</td>\n",
       "      <td>122.8</td>\n",
       "      <td>1001.0</td>\n",
       "      <td>0.11840</td>\n",
       "      <td>0.27760</td>\n",
       "      <td>0.3001</td>\n",
       "      <td>0.14710</td>\n",
       "      <td>0.2419</td>\n",
       "      <td>0.07871</td>\n",
       "      <td>...</td>\n",
       "      <td>25.38</td>\n",
       "      <td>17.33</td>\n",
       "      <td>184.6</td>\n",
       "      <td>2019.0</td>\n",
       "      <td>0.1622</td>\n",
       "      <td>0.6656</td>\n",
       "      <td>0.7119</td>\n",
       "      <td>0.2654</td>\n",
       "      <td>0.4601</td>\n",
       "      <td>0.11890</td>\n",
       "    </tr>\n",
       "    <tr>\n",
       "      <th>1</th>\n",
       "      <td>20.57</td>\n",
       "      <td>17.77</td>\n",
       "      <td>132.9</td>\n",
       "      <td>1326.0</td>\n",
       "      <td>0.08474</td>\n",
       "      <td>0.07864</td>\n",
       "      <td>0.0869</td>\n",
       "      <td>0.07017</td>\n",
       "      <td>0.1812</td>\n",
       "      <td>0.05667</td>\n",
       "      <td>...</td>\n",
       "      <td>24.99</td>\n",
       "      <td>23.41</td>\n",
       "      <td>158.8</td>\n",
       "      <td>1956.0</td>\n",
       "      <td>0.1238</td>\n",
       "      <td>0.1866</td>\n",
       "      <td>0.2416</td>\n",
       "      <td>0.1860</td>\n",
       "      <td>0.2750</td>\n",
       "      <td>0.08902</td>\n",
       "    </tr>\n",
       "  </tbody>\n",
       "</table>\n",
       "<p>2 rows × 30 columns</p>\n",
       "</div>"
      ],
      "text/plain": [
       "   mean radius  mean texture  mean perimeter  mean area  mean smoothness  \\\n",
       "0        17.99         10.38           122.8     1001.0          0.11840   \n",
       "1        20.57         17.77           132.9     1326.0          0.08474   \n",
       "\n",
       "   mean compactness  mean concavity  mean concave points  mean symmetry  \\\n",
       "0           0.27760          0.3001              0.14710         0.2419   \n",
       "1           0.07864          0.0869              0.07017         0.1812   \n",
       "\n",
       "   mean fractal dimension           ...             worst radius  \\\n",
       "0                 0.07871           ...                    25.38   \n",
       "1                 0.05667           ...                    24.99   \n",
       "\n",
       "   worst texture  worst perimeter  worst area  worst smoothness  \\\n",
       "0          17.33            184.6      2019.0            0.1622   \n",
       "1          23.41            158.8      1956.0            0.1238   \n",
       "\n",
       "   worst compactness  worst concavity  worst concave points  worst symmetry  \\\n",
       "0             0.6656           0.7119                0.2654          0.4601   \n",
       "1             0.1866           0.2416                0.1860          0.2750   \n",
       "\n",
       "   worst fractal dimension  \n",
       "0                  0.11890  \n",
       "1                  0.08902  \n",
       "\n",
       "[2 rows x 30 columns]"
      ]
     },
     "execution_count": 8,
     "metadata": {},
     "output_type": "execute_result"
    }
   ],
   "source": [
    "df_features.head(2)"
   ]
  },
  {
   "cell_type": "code",
   "execution_count": 10,
   "metadata": {},
   "outputs": [
    {
     "data": {
      "text/plain": [
       "array(['malignant', 'benign'], dtype='<U9')"
      ]
     },
     "execution_count": 10,
     "metadata": {},
     "output_type": "execute_result"
    }
   ],
   "source": [
    "#which type of cancer\n",
    "cancer['target_names']"
   ]
  },
  {
   "cell_type": "code",
   "execution_count": null,
   "metadata": {},
   "outputs": [],
   "source": []
  },
  {
   "cell_type": "code",
   "execution_count": 14,
   "metadata": {},
   "outputs": [],
   "source": [
    "X=df_features\n",
    "y=cancer['target']"
   ]
  },
  {
   "cell_type": "code",
   "execution_count": 15,
   "metadata": {},
   "outputs": [],
   "source": [
    "from sklearn.cross_validation import train_test_split"
   ]
  },
  {
   "cell_type": "code",
   "execution_count": 16,
   "metadata": {},
   "outputs": [],
   "source": [
    "X_train, X_test, y_train, y_test = train_test_split(X, y, test_size=0.30, random_state=101)"
   ]
  },
  {
   "cell_type": "code",
   "execution_count": 17,
   "metadata": {},
   "outputs": [],
   "source": [
    "from sklearn.svm import SVC"
   ]
  },
  {
   "cell_type": "code",
   "execution_count": 18,
   "metadata": {},
   "outputs": [],
   "source": [
    "model=SVC()"
   ]
  },
  {
   "cell_type": "code",
   "execution_count": 19,
   "metadata": {},
   "outputs": [
    {
     "data": {
      "text/plain": [
       "SVC(C=1.0, cache_size=200, class_weight=None, coef0=0.0,\n",
       "  decision_function_shape='ovr', degree=3, gamma='auto', kernel='rbf',\n",
       "  max_iter=-1, probability=False, random_state=None, shrinking=True,\n",
       "  tol=0.001, verbose=False)"
      ]
     },
     "execution_count": 19,
     "metadata": {},
     "output_type": "execute_result"
    }
   ],
   "source": [
    "model.fit(X_train,y_train)"
   ]
  },
  {
   "cell_type": "code",
   "execution_count": 20,
   "metadata": {},
   "outputs": [],
   "source": [
    "predictions=model.predict(X_test)"
   ]
  },
  {
   "cell_type": "code",
   "execution_count": 21,
   "metadata": {},
   "outputs": [],
   "source": [
    "from sklearn.metrics import classification_report,confusion_matrix"
   ]
  },
  {
   "cell_type": "code",
   "execution_count": 22,
   "metadata": {},
   "outputs": [
    {
     "name": "stdout",
     "output_type": "stream",
     "text": [
      "[[  0  66]\n",
      " [  0 105]]\n",
      "/n\n",
      "             precision    recall  f1-score   support\n",
      "\n",
      "          0       0.00      0.00      0.00        66\n",
      "          1       0.61      1.00      0.76       105\n",
      "\n",
      "avg / total       0.38      0.61      0.47       171\n",
      "\n"
     ]
    },
    {
     "name": "stderr",
     "output_type": "stream",
     "text": [
      "C:\\ProgramData\\Anaconda3\\lib\\site-packages\\sklearn\\metrics\\classification.py:1135: UndefinedMetricWarning: Precision and F-score are ill-defined and being set to 0.0 in labels with no predicted samples.\n",
      "  'precision', 'predicted', average, warn_for)\n"
     ]
    }
   ],
   "source": [
    "print(confusion_matrix(y_test,predictions))\n",
    "print(\"/n\")\n",
    "print(classification_report(y_test,predictions))"
   ]
  },
  {
   "cell_type": "code",
   "execution_count": 23,
   "metadata": {},
   "outputs": [],
   "source": [
    "#In the above technique you will get low precision because for this everything classifying into single class so, we have to search best parameter by using grid search"
   ]
  },
  {
   "cell_type": "code",
   "execution_count": 24,
   "metadata": {},
   "outputs": [],
   "source": [
    "from sklearn.grid_search import GridSearchCV"
   ]
  },
  {
   "cell_type": "code",
   "execution_count": 25,
   "metadata": {},
   "outputs": [],
   "source": [
    "param_grid={'C':[0.01,0.1,1,10,100,1000,10000],'gamma':[1,0.1,0.01,0.001,.0001,.00001]}"
   ]
  },
  {
   "cell_type": "code",
   "execution_count": 26,
   "metadata": {},
   "outputs": [],
   "source": [
    "grid=GridSearchCV(SVC(),param_grid,verbose=3)"
   ]
  },
  {
   "cell_type": "code",
   "execution_count": 33,
   "metadata": {},
   "outputs": [
    {
     "data": {
      "text/plain": [
       "{'C': 100, 'gamma': 1e-05}"
      ]
     },
     "execution_count": 33,
     "metadata": {},
     "output_type": "execute_result"
    }
   ],
   "source": [
    "grid.best_params_"
   ]
  },
  {
   "cell_type": "code",
   "execution_count": 28,
   "metadata": {},
   "outputs": [
    {
     "name": "stdout",
     "output_type": "stream",
     "text": [
      "Fitting 3 folds for each of 42 candidates, totalling 126 fits\n",
      "[CV] C=0.01, gamma=1 .................................................\n",
      "[CV] ........................ C=0.01, gamma=1, score=0.631579 -   0.0s\n",
      "[CV] C=0.01, gamma=1 .................................................\n",
      "[CV] ........................ C=0.01, gamma=1, score=0.631579 -   0.0s\n",
      "[CV] C=0.01, gamma=1 .................................................\n",
      "[CV] ........................ C=0.01, gamma=1, score=0.636364 -   0.0s\n",
      "[CV] C=0.01, gamma=0.1 ...............................................\n",
      "[CV] ...................... C=0.01, gamma=0.1, score=0.631579 -   0.0s\n",
      "[CV] C=0.01, gamma=0.1 ...............................................\n",
      "[CV] ...................... C=0.01, gamma=0.1, score=0.631579 -   0.0s\n",
      "[CV] C=0.01, gamma=0.1 ...............................................\n",
      "[CV] ...................... C=0.01, gamma=0.1, score=0.636364 -   0.0s\n",
      "[CV] C=0.01, gamma=0.01 ..............................................\n",
      "[CV] ..................... C=0.01, gamma=0.01, score=0.631579 -   0.0s\n",
      "[CV] C=0.01, gamma=0.01 ..............................................\n",
      "[CV] ..................... C=0.01, gamma=0.01, score=0.631579 -   0.0s\n",
      "[CV] C=0.01, gamma=0.01 ..............................................\n",
      "[CV] ..................... C=0.01, gamma=0.01, score=0.636364 -   0.0s\n",
      "[CV] C=0.01, gamma=0.001 .............................................\n",
      "[CV] .................... C=0.01, gamma=0.001, score=0.631579 -   0.0s\n",
      "[CV] C=0.01, gamma=0.001 .............................................\n",
      "[CV] .................... C=0.01, gamma=0.001, score=0.631579 -   0.0s\n",
      "[CV] C=0.01, gamma=0.001 .............................................\n",
      "[CV] .................... C=0.01, gamma=0.001, score=0.636364 -   0.0s\n",
      "[CV] C=0.01, gamma=0.0001 ............................................\n",
      "[CV] ................... C=0.01, gamma=0.0001, score=0.631579 -   0.0s\n",
      "[CV] C=0.01, gamma=0.0001 ............................................\n",
      "[CV] ................... C=0.01, gamma=0.0001, score=0.631579 -   0.0s\n",
      "[CV] C=0.01, gamma=0.0001 ............................................\n",
      "[CV] ................... C=0.01, gamma=0.0001, score=0.636364 -   0.0s\n",
      "[CV] C=0.01, gamma=1e-05 .............................................\n"
     ]
    },
    {
     "name": "stderr",
     "output_type": "stream",
     "text": [
      "[Parallel(n_jobs=1)]: Done   1 out of   1 | elapsed:    0.0s remaining:    0.0s\n",
      "[Parallel(n_jobs=1)]: Done   2 out of   2 | elapsed:    0.0s remaining:    0.0s\n"
     ]
    },
    {
     "name": "stdout",
     "output_type": "stream",
     "text": [
      "[CV] .................... C=0.01, gamma=1e-05, score=0.631579 -   0.0s\n",
      "[CV] C=0.01, gamma=1e-05 .............................................\n",
      "[CV] .................... C=0.01, gamma=1e-05, score=0.631579 -   0.0s\n",
      "[CV] C=0.01, gamma=1e-05 .............................................\n",
      "[CV] .................... C=0.01, gamma=1e-05, score=0.636364 -   0.0s\n",
      "[CV] C=0.1, gamma=1 ..................................................\n",
      "[CV] ......................... C=0.1, gamma=1, score=0.631579 -   0.0s\n",
      "[CV] C=0.1, gamma=1 ..................................................\n",
      "[CV] ......................... C=0.1, gamma=1, score=0.631579 -   0.0s\n",
      "[CV] C=0.1, gamma=1 ..................................................\n",
      "[CV] ......................... C=0.1, gamma=1, score=0.636364 -   0.0s\n",
      "[CV] C=0.1, gamma=0.1 ................................................\n",
      "[CV] ....................... C=0.1, gamma=0.1, score=0.631579 -   0.0s\n",
      "[CV] C=0.1, gamma=0.1 ................................................\n",
      "[CV] ....................... C=0.1, gamma=0.1, score=0.631579 -   0.0s\n",
      "[CV] C=0.1, gamma=0.1 ................................................\n",
      "[CV] ....................... C=0.1, gamma=0.1, score=0.636364 -   0.0s\n",
      "[CV] C=0.1, gamma=0.01 ...............................................\n",
      "[CV] ...................... C=0.1, gamma=0.01, score=0.631579 -   0.0s\n",
      "[CV] C=0.1, gamma=0.01 ...............................................\n",
      "[CV] ...................... C=0.1, gamma=0.01, score=0.631579 -   0.0s\n",
      "[CV] C=0.1, gamma=0.01 ...............................................\n",
      "[CV] ...................... C=0.1, gamma=0.01, score=0.636364 -   0.0s\n",
      "[CV] C=0.1, gamma=0.001 ..............................................\n",
      "[CV] ..................... C=0.1, gamma=0.001, score=0.631579 -   0.0s\n",
      "[CV] C=0.1, gamma=0.001 ..............................................\n",
      "[CV] ..................... C=0.1, gamma=0.001, score=0.631579 -   0.0s\n",
      "[CV] C=0.1, gamma=0.001 ..............................................\n",
      "[CV] ..................... C=0.1, gamma=0.001, score=0.636364 -   0.0s\n",
      "[CV] C=0.1, gamma=0.0001 .............................................\n",
      "[CV] .................... C=0.1, gamma=0.0001, score=0.902256 -   0.0s\n",
      "[CV] C=0.1, gamma=0.0001 .............................................\n",
      "[CV] .................... C=0.1, gamma=0.0001, score=0.962406 -   0.0s\n",
      "[CV] C=0.1, gamma=0.0001 .............................................\n",
      "[CV] .................... C=0.1, gamma=0.0001, score=0.916667 -   0.0s\n",
      "[CV] C=0.1, gamma=1e-05 ..............................................\n",
      "[CV] ..................... C=0.1, gamma=1e-05, score=0.894737 -   0.0s\n",
      "[CV] C=0.1, gamma=1e-05 ..............................................\n",
      "[CV] ..................... C=0.1, gamma=1e-05, score=0.962406 -   0.0s\n",
      "[CV] C=0.1, gamma=1e-05 ..............................................\n",
      "[CV] ..................... C=0.1, gamma=1e-05, score=0.901515 -   0.0s\n",
      "[CV] C=1, gamma=1 ....................................................\n",
      "[CV] ........................... C=1, gamma=1, score=0.631579 -   0.0s\n",
      "[CV] C=1, gamma=1 ....................................................\n",
      "[CV] ........................... C=1, gamma=1, score=0.631579 -   0.0s\n",
      "[CV] C=1, gamma=1 ....................................................\n",
      "[CV] ........................... C=1, gamma=1, score=0.636364 -   0.0s\n",
      "[CV] C=1, gamma=0.1 ..................................................\n",
      "[CV] ......................... C=1, gamma=0.1, score=0.631579 -   0.0s\n",
      "[CV] C=1, gamma=0.1 ..................................................\n",
      "[CV] ......................... C=1, gamma=0.1, score=0.631579 -   0.0s\n",
      "[CV] C=1, gamma=0.1 ..................................................\n",
      "[CV] ......................... C=1, gamma=0.1, score=0.636364 -   0.0s\n",
      "[CV] C=1, gamma=0.01 .................................................\n",
      "[CV] ........................ C=1, gamma=0.01, score=0.631579 -   0.0s\n",
      "[CV] C=1, gamma=0.01 .................................................\n",
      "[CV] ........................ C=1, gamma=0.01, score=0.631579 -   0.0s\n",
      "[CV] C=1, gamma=0.01 .................................................\n",
      "[CV] ........................ C=1, gamma=0.01, score=0.636364 -   0.0s\n",
      "[CV] C=1, gamma=0.001 ................................................\n",
      "[CV] ....................... C=1, gamma=0.001, score=0.902256 -   0.0s\n",
      "[CV] C=1, gamma=0.001 ................................................\n",
      "[CV] ....................... C=1, gamma=0.001, score=0.939850 -   0.0s\n",
      "[CV] C=1, gamma=0.001 ................................................\n",
      "[CV] ....................... C=1, gamma=0.001, score=0.954545 -   0.0s\n",
      "[CV] C=1, gamma=0.0001 ...............................................\n",
      "[CV] ...................... C=1, gamma=0.0001, score=0.939850 -   0.0s\n",
      "[CV] C=1, gamma=0.0001 ...............................................\n",
      "[CV] ...................... C=1, gamma=0.0001, score=0.969925 -   0.0s\n",
      "[CV] C=1, gamma=0.0001 ...............................................\n",
      "[CV] ...................... C=1, gamma=0.0001, score=0.946970 -   0.0s\n",
      "[CV] C=1, gamma=1e-05 ................................................\n",
      "[CV] ....................... C=1, gamma=1e-05, score=0.902256 -   0.0s\n",
      "[CV] C=1, gamma=1e-05 ................................................\n",
      "[CV] ....................... C=1, gamma=1e-05, score=0.962406 -   0.0s\n",
      "[CV] C=1, gamma=1e-05 ................................................\n",
      "[CV] ....................... C=1, gamma=1e-05, score=0.909091 -   0.0s\n",
      "[CV] C=10, gamma=1 ...................................................\n",
      "[CV] .......................... C=10, gamma=1, score=0.631579 -   0.0s\n",
      "[CV] C=10, gamma=1 ...................................................\n",
      "[CV] .......................... C=10, gamma=1, score=0.631579 -   0.0s\n",
      "[CV] C=10, gamma=1 ...................................................\n",
      "[CV] .......................... C=10, gamma=1, score=0.636364 -   0.0s\n",
      "[CV] C=10, gamma=0.1 .................................................\n",
      "[CV] ........................ C=10, gamma=0.1, score=0.631579 -   0.0s\n",
      "[CV] C=10, gamma=0.1 .................................................\n",
      "[CV] ........................ C=10, gamma=0.1, score=0.631579 -   0.0s\n",
      "[CV] C=10, gamma=0.1 .................................................\n",
      "[CV] ........................ C=10, gamma=0.1, score=0.636364 -   0.0s\n",
      "[CV] C=10, gamma=0.01 ................................................\n",
      "[CV] ....................... C=10, gamma=0.01, score=0.631579 -   0.0s\n",
      "[CV] C=10, gamma=0.01 ................................................\n",
      "[CV] ....................... C=10, gamma=0.01, score=0.631579 -   0.0s\n",
      "[CV] C=10, gamma=0.01 ................................................\n",
      "[CV] ....................... C=10, gamma=0.01, score=0.636364 -   0.0s\n",
      "[CV] C=10, gamma=0.001 ...............................................\n",
      "[CV] ...................... C=10, gamma=0.001, score=0.894737 -   0.0s\n",
      "[CV] C=10, gamma=0.001 ...............................................\n",
      "[CV] ...................... C=10, gamma=0.001, score=0.932331 -   0.0s\n",
      "[CV] C=10, gamma=0.001 ...............................................\n",
      "[CV] ...................... C=10, gamma=0.001, score=0.916667 -   0.0s\n",
      "[CV] C=10, gamma=0.0001 ..............................................\n",
      "[CV] ..................... C=10, gamma=0.0001, score=0.932331 -   0.0s\n",
      "[CV] C=10, gamma=0.0001 ..............................................\n",
      "[CV] ..................... C=10, gamma=0.0001, score=0.969925 -   0.0s\n",
      "[CV] C=10, gamma=0.0001 ..............................................\n",
      "[CV] ..................... C=10, gamma=0.0001, score=0.962121 -   0.0s\n",
      "[CV] C=10, gamma=1e-05 ...............................................\n",
      "[CV] ...................... C=10, gamma=1e-05, score=0.924812 -   0.0s\n",
      "[CV] C=10, gamma=1e-05 ...............................................\n",
      "[CV] ...................... C=10, gamma=1e-05, score=0.969925 -   0.0s\n",
      "[CV] C=10, gamma=1e-05 ...............................................\n",
      "[CV] ...................... C=10, gamma=1e-05, score=0.939394 -   0.0s\n",
      "[CV] C=100, gamma=1 ..................................................\n",
      "[CV] ......................... C=100, gamma=1, score=0.631579 -   0.0s\n",
      "[CV] C=100, gamma=1 ..................................................\n",
      "[CV] ......................... C=100, gamma=1, score=0.631579 -   0.0s\n",
      "[CV] C=100, gamma=1 ..................................................\n",
      "[CV] ......................... C=100, gamma=1, score=0.636364 -   0.0s\n",
      "[CV] C=100, gamma=0.1 ................................................\n",
      "[CV] ....................... C=100, gamma=0.1, score=0.631579 -   0.0s\n",
      "[CV] C=100, gamma=0.1 ................................................\n"
     ]
    },
    {
     "name": "stdout",
     "output_type": "stream",
     "text": [
      "[CV] ....................... C=100, gamma=0.1, score=0.631579 -   0.0s\n",
      "[CV] C=100, gamma=0.1 ................................................\n",
      "[CV] ....................... C=100, gamma=0.1, score=0.636364 -   0.0s\n",
      "[CV] C=100, gamma=0.01 ...............................................\n",
      "[CV] ...................... C=100, gamma=0.01, score=0.631579 -   0.0s\n",
      "[CV] C=100, gamma=0.01 ...............................................\n",
      "[CV] ...................... C=100, gamma=0.01, score=0.631579 -   0.0s\n",
      "[CV] C=100, gamma=0.01 ...............................................\n",
      "[CV] ...................... C=100, gamma=0.01, score=0.636364 -   0.0s\n",
      "[CV] C=100, gamma=0.001 ..............................................\n",
      "[CV] ..................... C=100, gamma=0.001, score=0.894737 -   0.0s\n",
      "[CV] C=100, gamma=0.001 ..............................................\n",
      "[CV] ..................... C=100, gamma=0.001, score=0.932331 -   0.0s\n",
      "[CV] C=100, gamma=0.001 ..............................................\n",
      "[CV] ..................... C=100, gamma=0.001, score=0.916667 -   0.0s\n",
      "[CV] C=100, gamma=0.0001 .............................................\n",
      "[CV] .................... C=100, gamma=0.0001, score=0.917293 -   0.0s\n",
      "[CV] C=100, gamma=0.0001 .............................................\n",
      "[CV] .................... C=100, gamma=0.0001, score=0.977444 -   0.0s\n",
      "[CV] C=100, gamma=0.0001 .............................................\n",
      "[CV] .................... C=100, gamma=0.0001, score=0.939394 -   0.0s\n",
      "[CV] C=100, gamma=1e-05 ..............................................\n",
      "[CV] ..................... C=100, gamma=1e-05, score=0.939850 -   0.0s\n",
      "[CV] C=100, gamma=1e-05 ..............................................\n",
      "[CV] ..................... C=100, gamma=1e-05, score=0.984962 -   0.0s\n",
      "[CV] C=100, gamma=1e-05 ..............................................\n",
      "[CV] ..................... C=100, gamma=1e-05, score=0.954545 -   0.0s\n",
      "[CV] C=1000, gamma=1 .................................................\n",
      "[CV] ........................ C=1000, gamma=1, score=0.631579 -   0.0s\n",
      "[CV] C=1000, gamma=1 .................................................\n",
      "[CV] ........................ C=1000, gamma=1, score=0.631579 -   0.0s\n",
      "[CV] C=1000, gamma=1 .................................................\n",
      "[CV] ........................ C=1000, gamma=1, score=0.636364 -   0.0s\n",
      "[CV] C=1000, gamma=0.1 ...............................................\n",
      "[CV] ...................... C=1000, gamma=0.1, score=0.631579 -   0.0s\n",
      "[CV] C=1000, gamma=0.1 ...............................................\n",
      "[CV] ...................... C=1000, gamma=0.1, score=0.631579 -   0.0s\n",
      "[CV] C=1000, gamma=0.1 ...............................................\n",
      "[CV] ...................... C=1000, gamma=0.1, score=0.636364 -   0.0s\n",
      "[CV] C=1000, gamma=0.01 ..............................................\n",
      "[CV] ..................... C=1000, gamma=0.01, score=0.631579 -   0.0s\n",
      "[CV] C=1000, gamma=0.01 ..............................................\n",
      "[CV] ..................... C=1000, gamma=0.01, score=0.631579 -   0.0s\n",
      "[CV] C=1000, gamma=0.01 ..............................................\n",
      "[CV] ..................... C=1000, gamma=0.01, score=0.636364 -   0.0s\n",
      "[CV] C=1000, gamma=0.001 .............................................\n",
      "[CV] .................... C=1000, gamma=0.001, score=0.894737 -   0.0s\n",
      "[CV] C=1000, gamma=0.001 .............................................\n",
      "[CV] .................... C=1000, gamma=0.001, score=0.932331 -   0.0s\n",
      "[CV] C=1000, gamma=0.001 .............................................\n",
      "[CV] .................... C=1000, gamma=0.001, score=0.916667 -   0.0s\n",
      "[CV] C=1000, gamma=0.0001 ............................................\n",
      "[CV] ................... C=1000, gamma=0.0001, score=0.909774 -   0.0s\n",
      "[CV] C=1000, gamma=0.0001 ............................................\n",
      "[CV] ................... C=1000, gamma=0.0001, score=0.969925 -   0.0s\n",
      "[CV] C=1000, gamma=0.0001 ............................................\n",
      "[CV] ................... C=1000, gamma=0.0001, score=0.931818 -   0.0s\n",
      "[CV] C=1000, gamma=1e-05 .............................................\n",
      "[CV] .................... C=1000, gamma=1e-05, score=0.909774 -   0.0s\n",
      "[CV] C=1000, gamma=1e-05 .............................................\n",
      "[CV] .................... C=1000, gamma=1e-05, score=0.984962 -   0.0s\n",
      "[CV] C=1000, gamma=1e-05 .............................................\n",
      "[CV] .................... C=1000, gamma=1e-05, score=0.962121 -   0.0s\n",
      "[CV] C=10000, gamma=1 ................................................\n",
      "[CV] ....................... C=10000, gamma=1, score=0.631579 -   0.0s\n",
      "[CV] C=10000, gamma=1 ................................................\n",
      "[CV] ....................... C=10000, gamma=1, score=0.631579 -   0.0s\n",
      "[CV] C=10000, gamma=1 ................................................\n",
      "[CV] ....................... C=10000, gamma=1, score=0.636364 -   0.0s\n",
      "[CV] C=10000, gamma=0.1 ..............................................\n",
      "[CV] ..................... C=10000, gamma=0.1, score=0.631579 -   0.0s\n",
      "[CV] C=10000, gamma=0.1 ..............................................\n",
      "[CV] ..................... C=10000, gamma=0.1, score=0.631579 -   0.0s\n",
      "[CV] C=10000, gamma=0.1 ..............................................\n",
      "[CV] ..................... C=10000, gamma=0.1, score=0.636364 -   0.0s\n",
      "[CV] C=10000, gamma=0.01 .............................................\n",
      "[CV] .................... C=10000, gamma=0.01, score=0.631579 -   0.0s\n",
      "[CV] C=10000, gamma=0.01 .............................................\n",
      "[CV] .................... C=10000, gamma=0.01, score=0.631579 -   0.0s\n",
      "[CV] C=10000, gamma=0.01 .............................................\n",
      "[CV] .................... C=10000, gamma=0.01, score=0.636364 -   0.0s\n",
      "[CV] C=10000, gamma=0.001 ............................................\n",
      "[CV] ................... C=10000, gamma=0.001, score=0.894737 -   0.0s\n",
      "[CV] C=10000, gamma=0.001 ............................................\n",
      "[CV] ................... C=10000, gamma=0.001, score=0.932331 -   0.0s\n",
      "[CV] C=10000, gamma=0.001 ............................................\n",
      "[CV] ................... C=10000, gamma=0.001, score=0.916667 -   0.0s\n",
      "[CV] C=10000, gamma=0.0001 ...........................................\n",
      "[CV] .................. C=10000, gamma=0.0001, score=0.909774 -   0.0s\n",
      "[CV] C=10000, gamma=0.0001 ...........................................\n",
      "[CV] .................. C=10000, gamma=0.0001, score=0.969925 -   0.0s\n",
      "[CV] C=10000, gamma=0.0001 ...........................................\n",
      "[CV] .................. C=10000, gamma=0.0001, score=0.931818 -   0.0s\n",
      "[CV] C=10000, gamma=1e-05 ............................................\n",
      "[CV] ................... C=10000, gamma=1e-05, score=0.932331 -   0.0s\n",
      "[CV] C=10000, gamma=1e-05 ............................................\n",
      "[CV] ................... C=10000, gamma=1e-05, score=0.992481 -   0.0s\n",
      "[CV] C=10000, gamma=1e-05 ............................................\n",
      "[CV] ................... C=10000, gamma=1e-05, score=0.916667 -   0.0s\n"
     ]
    },
    {
     "name": "stderr",
     "output_type": "stream",
     "text": [
      "[Parallel(n_jobs=1)]: Done 126 out of 126 | elapsed:    1.2s finished\n"
     ]
    },
    {
     "data": {
      "text/plain": [
       "GridSearchCV(cv=None, error_score='raise',\n",
       "       estimator=SVC(C=1.0, cache_size=200, class_weight=None, coef0=0.0,\n",
       "  decision_function_shape='ovr', degree=3, gamma='auto', kernel='rbf',\n",
       "  max_iter=-1, probability=False, random_state=None, shrinking=True,\n",
       "  tol=0.001, verbose=False),\n",
       "       fit_params={}, iid=True, n_jobs=1,\n",
       "       param_grid={'C': [0.01, 0.1, 1, 10, 100, 1000, 10000], 'gamma': [1, 0.1, 0.01, 0.001, 0.0001, 1e-05]},\n",
       "       pre_dispatch='2*n_jobs', refit=True, scoring=None, verbose=3)"
      ]
     },
     "execution_count": 28,
     "metadata": {},
     "output_type": "execute_result"
    }
   ],
   "source": [
    "grid.fit(X_train,y_train)"
   ]
  },
  {
   "cell_type": "code",
   "execution_count": 29,
   "metadata": {},
   "outputs": [],
   "source": [
    "grid_predictions=grid.predict(X_test)"
   ]
  },
  {
   "cell_type": "code",
   "execution_count": 31,
   "metadata": {},
   "outputs": [
    {
     "name": "stdout",
     "output_type": "stream",
     "text": [
      "[[ 59   7]\n",
      " [  4 101]]\n",
      "/n\n",
      "             precision    recall  f1-score   support\n",
      "\n",
      "          0       0.94      0.89      0.91        66\n",
      "          1       0.94      0.96      0.95       105\n",
      "\n",
      "avg / total       0.94      0.94      0.94       171\n",
      "\n"
     ]
    }
   ],
   "source": [
    "print(confusion_matrix(y_test,grid_predictions))\n",
    "print(\"/n\")\n",
    "print(classification_report(y_test,grid_predictions))"
   ]
  },
  {
   "cell_type": "code",
   "execution_count": 34,
   "metadata": {},
   "outputs": [
    {
     "data": {
      "text/plain": [
       "'Hence we get better result'"
      ]
     },
     "execution_count": 34,
     "metadata": {},
     "output_type": "execute_result"
    }
   ],
   "source": [
    "\"Hence we get better result\""
   ]
  },
  {
   "cell_type": "code",
   "execution_count": null,
   "metadata": {},
   "outputs": [],
   "source": []
  },
  {
   "cell_type": "code",
   "execution_count": null,
   "metadata": {},
   "outputs": [],
   "source": []
  }
 ],
 "metadata": {
  "kernelspec": {
   "display_name": "Python 3",
   "language": "python",
   "name": "python3"
  },
  "language_info": {
   "codemirror_mode": {
    "name": "ipython",
    "version": 3
   },
   "file_extension": ".py",
   "mimetype": "text/x-python",
   "name": "python",
   "nbconvert_exporter": "python",
   "pygments_lexer": "ipython3",
   "version": "3.6.5"
  }
 },
 "nbformat": 4,
 "nbformat_minor": 2
}
